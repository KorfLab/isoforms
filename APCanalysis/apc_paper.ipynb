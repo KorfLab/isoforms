{
 "cells": [
  {
   "cell_type": "code",
   "execution_count": 2,
   "id": "32830538-67f2-473b-8bbe-42972471532c",
   "metadata": {},
   "outputs": [],
   "source": [
    "import pandas as pd\n",
    "import seaborn as sns\n",
    "import matplotlib.pyplot as plt"
   ]
  },
  {
   "cell_type": "code",
   "execution_count": 3,
   "id": "ea701ea5-7e33-47d5-bc20-7909b5985339",
   "metadata": {},
   "outputs": [
    {
     "data": {
      "text/html": [
       "<div>\n",
       "<style scoped>\n",
       "    .dataframe tbody tr th:only-of-type {\n",
       "        vertical-align: middle;\n",
       "    }\n",
       "\n",
       "    .dataframe tbody tr th {\n",
       "        vertical-align: top;\n",
       "    }\n",
       "\n",
       "    .dataframe thead th {\n",
       "        text-align: right;\n",
       "    }\n",
       "</style>\n",
       "<table border=\"1\" class=\"dataframe\">\n",
       "  <thead>\n",
       "    <tr style=\"text-align: right;\">\n",
       "      <th></th>\n",
       "      <th>seq_len</th>\n",
       "      <th>iso_count</th>\n",
       "      <th>n_dons</th>\n",
       "      <th>n_accs</th>\n",
       "      <th>time</th>\n",
       "    </tr>\n",
       "  </thead>\n",
       "  <tbody>\n",
       "    <tr>\n",
       "      <th>0</th>\n",
       "      <td>300</td>\n",
       "      <td>0</td>\n",
       "      <td>1</td>\n",
       "      <td>4</td>\n",
       "      <td>0.000015</td>\n",
       "    </tr>\n",
       "    <tr>\n",
       "      <th>1</th>\n",
       "      <td>300</td>\n",
       "      <td>0</td>\n",
       "      <td>1</td>\n",
       "      <td>6</td>\n",
       "      <td>0.000012</td>\n",
       "    </tr>\n",
       "    <tr>\n",
       "      <th>2</th>\n",
       "      <td>300</td>\n",
       "      <td>0</td>\n",
       "      <td>3</td>\n",
       "      <td>1</td>\n",
       "      <td>0.000011</td>\n",
       "    </tr>\n",
       "    <tr>\n",
       "      <th>3</th>\n",
       "      <td>300</td>\n",
       "      <td>0</td>\n",
       "      <td>4</td>\n",
       "      <td>1</td>\n",
       "      <td>0.000010</td>\n",
       "    </tr>\n",
       "    <tr>\n",
       "      <th>4</th>\n",
       "      <td>300</td>\n",
       "      <td>0</td>\n",
       "      <td>3</td>\n",
       "      <td>2</td>\n",
       "      <td>0.000010</td>\n",
       "    </tr>\n",
       "    <tr>\n",
       "      <th>...</th>\n",
       "      <td>...</td>\n",
       "      <td>...</td>\n",
       "      <td>...</td>\n",
       "      <td>...</td>\n",
       "      <td>...</td>\n",
       "    </tr>\n",
       "    <tr>\n",
       "      <th>1863</th>\n",
       "      <td>1200</td>\n",
       "      <td>9536447801</td>\n",
       "      <td>51</td>\n",
       "      <td>53</td>\n",
       "      <td>13222.238820</td>\n",
       "    </tr>\n",
       "    <tr>\n",
       "      <th>1864</th>\n",
       "      <td>1200</td>\n",
       "      <td>20637893939</td>\n",
       "      <td>54</td>\n",
       "      <td>57</td>\n",
       "      <td>32296.450608</td>\n",
       "    </tr>\n",
       "    <tr>\n",
       "      <th>1865</th>\n",
       "      <td>1200</td>\n",
       "      <td>7328652191</td>\n",
       "      <td>42</td>\n",
       "      <td>58</td>\n",
       "      <td>8641.958949</td>\n",
       "    </tr>\n",
       "    <tr>\n",
       "      <th>1866</th>\n",
       "      <td>1200</td>\n",
       "      <td>100170830615</td>\n",
       "      <td>59</td>\n",
       "      <td>64</td>\n",
       "      <td>103111.924355</td>\n",
       "    </tr>\n",
       "    <tr>\n",
       "      <th>1867</th>\n",
       "      <td>1200</td>\n",
       "      <td>588982391</td>\n",
       "      <td>55</td>\n",
       "      <td>37</td>\n",
       "      <td>1852.563725</td>\n",
       "    </tr>\n",
       "  </tbody>\n",
       "</table>\n",
       "<p>1868 rows × 5 columns</p>\n",
       "</div>"
      ],
      "text/plain": [
       "      seq_len     iso_count  n_dons  n_accs           time\n",
       "0         300             0       1       4       0.000015\n",
       "1         300             0       1       6       0.000012\n",
       "2         300             0       3       1       0.000011\n",
       "3         300             0       4       1       0.000010\n",
       "4         300             0       3       2       0.000010\n",
       "...       ...           ...     ...     ...            ...\n",
       "1863     1200    9536447801      51      53   13222.238820\n",
       "1864     1200   20637893939      54      57   32296.450608\n",
       "1865     1200    7328652191      42      58    8641.958949\n",
       "1866     1200  100170830615      59      64  103111.924355\n",
       "1867     1200     588982391      55      37    1852.563725\n",
       "\n",
       "[1868 rows x 5 columns]"
      ]
     },
     "execution_count": 3,
     "metadata": {},
     "output_type": "execute_result"
    }
   ],
   "source": [
    "df = pd.read_csv('bigo.csv')\n",
    "df"
   ]
  },
  {
   "cell_type": "code",
   "execution_count": 4,
   "id": "5c5a358d-df91-4bc0-a6b5-dd4c6b2afc48",
   "metadata": {},
   "outputs": [
    {
     "data": {
      "text/plain": [
       "<Axes: title={'center': 'iso_count'}, xlabel='seq_len'>"
      ]
     },
     "execution_count": 4,
     "metadata": {},
     "output_type": "execute_result"
    },
    {
     "data": {
      "image/png": "[encoded data removed]",
      "text/plain": [
       "<Figure size 640x480 with 1 Axes>"
      ]
     },
     "metadata": {},
     "output_type": "display_data"
    }
   ],
   "source": [
    "df.boxplot(by = 'seq_len', column = ['iso_count'], grid = False)"
   ]
  },
  {
   "cell_type": "code",
   "execution_count": 1,
   "id": "e31bbc5d-319e-4194-9f0e-2988632c5056",
   "metadata": {},
   "outputs": [
    {
     "ename": "NameError",
     "evalue": "name 'jt' is not defined",
     "output_type": "error",
     "traceback": [
      "\u001b[31m---------------------------------------------------------------------------\u001b[39m",
      "\u001b[31mNameError\u001b[39m                                 Traceback (most recent call last)",
      "\u001b[36mCell\u001b[39m\u001b[36m \u001b[39m\u001b[32mIn[1]\u001b[39m\u001b[32m, line 1\u001b[39m\n\u001b[32m----> \u001b[39m\u001b[32m1\u001b[39m jt -l\n",
      "\u001b[31mNameError\u001b[39m: name 'jt' is not defined"
     ]
    }
   ],
   "source": [
    "jt -l"
   ]
  },
  {
   "cell_type": "code",
   "execution_count": null,
   "id": "654f7733-fd53-48cd-844a-7bbc35b3553d",
   "metadata": {},
   "outputs": [],
   "source": []
  }
 ],
 "metadata": {
  "kernelspec": {
   "display_name": "Python 3 (ipykernel)",
   "language": "python",
   "name": "python3"
  },
  "language_info": {
   "codemirror_mode": {
    "name": "ipython",
    "version": 3
   },
   "file_extension": ".py",
   "mimetype": "text/x-python",
   "name": "python",
   "nbconvert_exporter": "python",
   "pygments_lexer": "ipython3",
   "version": "3.13.5"
  }
 },
 "nbformat": 4,
 "nbformat_minor": 5
}
