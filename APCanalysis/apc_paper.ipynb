{
 "cells": [
  {
   "cell_type": "code",
   "execution_count": 1,
   "id": "32830538-67f2-473b-8bbe-42972471532c",
   "metadata": {},
   "outputs": [],
   "source": [
    "import numpy as np\n",
    "import pandas as pd\n",
    "import seaborn as sns\n",
    "import matplotlib.pyplot as plt\n",
    "import logomaker"
   ]
  },
  {
   "cell_type": "code",
   "execution_count": 2,
   "id": "ea701ea5-7e33-47d5-bc20-7909b5985339",
   "metadata": {},
   "outputs": [
    {
     "data": {
      "text/html": [
       "<div>\n",
       "<style scoped>\n",
       "    .dataframe tbody tr th:only-of-type {\n",
       "        vertical-align: middle;\n",
       "    }\n",
       "\n",
       "    .dataframe tbody tr th {\n",
       "        vertical-align: top;\n",
       "    }\n",
       "\n",
       "    .dataframe thead th {\n",
       "        text-align: right;\n",
       "    }\n",
       "</style>\n",
       "<table border=\"1\" class=\"dataframe\">\n",
       "  <thead>\n",
       "    <tr style=\"text-align: right;\">\n",
       "      <th></th>\n",
       "      <th>seq_len</th>\n",
       "      <th>iso_count</th>\n",
       "      <th>n_dons</th>\n",
       "      <th>n_accs</th>\n",
       "      <th>time</th>\n",
       "    </tr>\n",
       "  </thead>\n",
       "  <tbody>\n",
       "    <tr>\n",
       "      <th>0</th>\n",
       "      <td>300</td>\n",
       "      <td>0</td>\n",
       "      <td>1</td>\n",
       "      <td>4</td>\n",
       "      <td>0.000015</td>\n",
       "    </tr>\n",
       "    <tr>\n",
       "      <th>1</th>\n",
       "      <td>300</td>\n",
       "      <td>0</td>\n",
       "      <td>1</td>\n",
       "      <td>6</td>\n",
       "      <td>0.000012</td>\n",
       "    </tr>\n",
       "    <tr>\n",
       "      <th>2</th>\n",
       "      <td>300</td>\n",
       "      <td>0</td>\n",
       "      <td>3</td>\n",
       "      <td>1</td>\n",
       "      <td>0.000011</td>\n",
       "    </tr>\n",
       "    <tr>\n",
       "      <th>3</th>\n",
       "      <td>300</td>\n",
       "      <td>0</td>\n",
       "      <td>4</td>\n",
       "      <td>1</td>\n",
       "      <td>0.000010</td>\n",
       "    </tr>\n",
       "    <tr>\n",
       "      <th>4</th>\n",
       "      <td>300</td>\n",
       "      <td>0</td>\n",
       "      <td>3</td>\n",
       "      <td>2</td>\n",
       "      <td>0.000010</td>\n",
       "    </tr>\n",
       "    <tr>\n",
       "      <th>...</th>\n",
       "      <td>...</td>\n",
       "      <td>...</td>\n",
       "      <td>...</td>\n",
       "      <td>...</td>\n",
       "      <td>...</td>\n",
       "    </tr>\n",
       "    <tr>\n",
       "      <th>1863</th>\n",
       "      <td>1200</td>\n",
       "      <td>9536447801</td>\n",
       "      <td>51</td>\n",
       "      <td>53</td>\n",
       "      <td>13222.238820</td>\n",
       "    </tr>\n",
       "    <tr>\n",
       "      <th>1864</th>\n",
       "      <td>1200</td>\n",
       "      <td>20637893939</td>\n",
       "      <td>54</td>\n",
       "      <td>57</td>\n",
       "      <td>32296.450608</td>\n",
       "    </tr>\n",
       "    <tr>\n",
       "      <th>1865</th>\n",
       "      <td>1200</td>\n",
       "      <td>7328652191</td>\n",
       "      <td>42</td>\n",
       "      <td>58</td>\n",
       "      <td>8641.958949</td>\n",
       "    </tr>\n",
       "    <tr>\n",
       "      <th>1866</th>\n",
       "      <td>1200</td>\n",
       "      <td>100170830615</td>\n",
       "      <td>59</td>\n",
       "      <td>64</td>\n",
       "      <td>103111.924355</td>\n",
       "    </tr>\n",
       "    <tr>\n",
       "      <th>1867</th>\n",
       "      <td>1200</td>\n",
       "      <td>588982391</td>\n",
       "      <td>55</td>\n",
       "      <td>37</td>\n",
       "      <td>1852.563725</td>\n",
       "    </tr>\n",
       "  </tbody>\n",
       "</table>\n",
       "<p>1868 rows × 5 columns</p>\n",
       "</div>"
      ],
      "text/plain": [
       "      seq_len     iso_count  n_dons  n_accs           time\n",
       "0         300             0       1       4       0.000015\n",
       "1         300             0       1       6       0.000012\n",
       "2         300             0       3       1       0.000011\n",
       "3         300             0       4       1       0.000010\n",
       "4         300             0       3       2       0.000010\n",
       "...       ...           ...     ...     ...            ...\n",
       "1863     1200    9536447801      51      53   13222.238820\n",
       "1864     1200   20637893939      54      57   32296.450608\n",
       "1865     1200    7328652191      42      58    8641.958949\n",
       "1866     1200  100170830615      59      64  103111.924355\n",
       "1867     1200     588982391      55      37    1852.563725\n",
       "\n",
       "[1868 rows x 5 columns]"
      ]
     },
     "execution_count": 2,
     "metadata": {},
     "output_type": "execute_result"
    }
   ],
   "source": [
    "iso_sim = pd.read_csv('bigo.csv')\n",
    "iso_sim"
   ]
  },
  {
   "cell_type": "code",
   "execution_count": 3,
   "id": "5c5a358d-df91-4bc0-a6b5-dd4c6b2afc48",
   "metadata": {},
   "outputs": [
    {
     "data": {
      "text/plain": [
       "<Axes: title={'center': 'iso_count'}, xlabel='seq_len'>"
      ]
     },
     "execution_count": 3,
     "metadata": {},
     "output_type": "execute_result"
    },
    {
     "data": {
      "image/png": "[encoded data removed]",
      "text/plain": [
       "<Figure size 640x480 with 1 Axes>"
      ]
     },
     "metadata": {},
     "output_type": "display_data"
    }
   ],
   "source": [
    "iso_sim.boxplot(by = 'seq_len', column = ['iso_count'], grid = False)"
   ]
  },
  {
   "cell_type": "code",
   "execution_count": 12,
   "id": "e31bbc5d-319e-4194-9f0e-2988632c5056",
   "metadata": {},
   "outputs": [
    {
     "data": {
      "text/html": [
       "<div>\n",
       "<style scoped>\n",
       "    .dataframe tbody tr th:only-of-type {\n",
       "        vertical-align: middle;\n",
       "    }\n",
       "\n",
       "    .dataframe tbody tr th {\n",
       "        vertical-align: top;\n",
       "    }\n",
       "\n",
       "    .dataframe thead th {\n",
       "        text-align: right;\n",
       "    }\n",
       "</style>\n",
       "<table border=\"1\" class=\"dataframe\">\n",
       "  <thead>\n",
       "    <tr style=\"text-align: right;\">\n",
       "      <th></th>\n",
       "      <th>0</th>\n",
       "      <th>1</th>\n",
       "      <th>2</th>\n",
       "      <th>3</th>\n",
       "      <th>4</th>\n",
       "    </tr>\n",
       "  </thead>\n",
       "  <tbody>\n",
       "    <tr>\n",
       "      <th>0</th>\n",
       "      <td>smallgenes_rnaseq_relative_donpwm</td>\n",
       "      <td>0.032819</td>\n",
       "      <td>0.014615</td>\n",
       "      <td>0.014838</td>\n",
       "      <td>0.026514</td>\n",
       "    </tr>\n",
       "    <tr>\n",
       "      <th>1</th>\n",
       "      <td>smallgenes_rnaseq_relative_donpwm</td>\n",
       "      <td>0.019318</td>\n",
       "      <td>0.009823</td>\n",
       "      <td>0.010735</td>\n",
       "      <td>0.013278</td>\n",
       "    </tr>\n",
       "    <tr>\n",
       "      <th>2</th>\n",
       "      <td>smallgenes_rnaseq_relative_donpwm</td>\n",
       "      <td>0.038890</td>\n",
       "      <td>0.024539</td>\n",
       "      <td>0.018565</td>\n",
       "      <td>0.014966</td>\n",
       "    </tr>\n",
       "    <tr>\n",
       "      <th>3</th>\n",
       "      <td>smallgenes_rnaseq_relative_donpwm</td>\n",
       "      <td>0.143828</td>\n",
       "      <td>0.038324</td>\n",
       "      <td>0.031651</td>\n",
       "      <td>0.060549</td>\n",
       "    </tr>\n",
       "    <tr>\n",
       "      <th>4</th>\n",
       "      <td>smallgenes_rnaseq_relative_donpwm</td>\n",
       "      <td>0.069109</td>\n",
       "      <td>0.033438</td>\n",
       "      <td>0.244270</td>\n",
       "      <td>0.063508</td>\n",
       "    </tr>\n",
       "    <tr>\n",
       "      <th>5</th>\n",
       "      <td>smallgenes_rnaseq_relative_donpwm</td>\n",
       "      <td>0.000000</td>\n",
       "      <td>0.000000</td>\n",
       "      <td>2.000000</td>\n",
       "      <td>0.000000</td>\n",
       "    </tr>\n",
       "    <tr>\n",
       "      <th>6</th>\n",
       "      <td>smallgenes_rnaseq_relative_donpwm</td>\n",
       "      <td>0.000000</td>\n",
       "      <td>0.000000</td>\n",
       "      <td>0.000000</td>\n",
       "      <td>2.000000</td>\n",
       "    </tr>\n",
       "    <tr>\n",
       "      <th>7</th>\n",
       "      <td>smallgenes_rnaseq_relative_donpwm</td>\n",
       "      <td>0.364980</td>\n",
       "      <td>0.008178</td>\n",
       "      <td>0.122333</td>\n",
       "      <td>0.095131</td>\n",
       "    </tr>\n",
       "    <tr>\n",
       "      <th>8</th>\n",
       "      <td>smallgenes_rnaseq_relative_donpwm</td>\n",
       "      <td>0.517074</td>\n",
       "      <td>0.041288</td>\n",
       "      <td>0.053633</td>\n",
       "      <td>0.111615</td>\n",
       "    </tr>\n",
       "    <tr>\n",
       "      <th>9</th>\n",
       "      <td>smallgenes_rnaseq_relative_donpwm</td>\n",
       "      <td>0.075285</td>\n",
       "      <td>0.026691</td>\n",
       "      <td>0.704060</td>\n",
       "      <td>0.103733</td>\n",
       "    </tr>\n",
       "  </tbody>\n",
       "</table>\n",
       "</div>"
      ],
      "text/plain": [
       "                                   0         1         2         3         4\n",
       "0  smallgenes_rnaseq_relative_donpwm  0.032819  0.014615  0.014838  0.026514\n",
       "1  smallgenes_rnaseq_relative_donpwm  0.019318  0.009823  0.010735  0.013278\n",
       "2  smallgenes_rnaseq_relative_donpwm  0.038890  0.024539  0.018565  0.014966\n",
       "3  smallgenes_rnaseq_relative_donpwm  0.143828  0.038324  0.031651  0.060549\n",
       "4  smallgenes_rnaseq_relative_donpwm  0.069109  0.033438  0.244270  0.063508\n",
       "5  smallgenes_rnaseq_relative_donpwm  0.000000  0.000000  2.000000  0.000000\n",
       "6  smallgenes_rnaseq_relative_donpwm  0.000000  0.000000  0.000000  2.000000\n",
       "7  smallgenes_rnaseq_relative_donpwm  0.364980  0.008178  0.122333  0.095131\n",
       "8  smallgenes_rnaseq_relative_donpwm  0.517074  0.041288  0.053633  0.111615\n",
       "9  smallgenes_rnaseq_relative_donpwm  0.075285  0.026691  0.704060  0.103733"
      ]
     },
     "execution_count": 12,
     "metadata": {},
     "output_type": "execute_result"
    }
   ],
   "source": [
    "pwm20 = pd.read_csv('sg_rnaseq_pwm_20bp.csv', header=None)\n",
    "pwm20.head(10)"
   ]
  },
  {
   "cell_type": "code",
   "execution_count": 13,
   "id": "654f7733-fd53-48cd-844a-7bbc35b3553d",
   "metadata": {},
   "outputs": [
    {
     "data": {
      "text/html": [
       "<div>\n",
       "<style scoped>\n",
       "    .dataframe tbody tr th:only-of-type {\n",
       "        vertical-align: middle;\n",
       "    }\n",
       "\n",
       "    .dataframe tbody tr th {\n",
       "        vertical-align: top;\n",
       "    }\n",
       "\n",
       "    .dataframe thead th {\n",
       "        text-align: right;\n",
       "    }\n",
       "</style>\n",
       "<table border=\"1\" class=\"dataframe\">\n",
       "  <thead>\n",
       "    <tr style=\"text-align: right;\">\n",
       "      <th></th>\n",
       "      <th>A</th>\n",
       "      <th>C</th>\n",
       "      <th>G</th>\n",
       "      <th>T</th>\n",
       "    </tr>\n",
       "  </thead>\n",
       "  <tbody>\n",
       "    <tr>\n",
       "      <th>0</th>\n",
       "      <td>0.032819</td>\n",
       "      <td>0.014615</td>\n",
       "      <td>0.014838</td>\n",
       "      <td>0.026514</td>\n",
       "    </tr>\n",
       "    <tr>\n",
       "      <th>1</th>\n",
       "      <td>0.019318</td>\n",
       "      <td>0.009823</td>\n",
       "      <td>0.010735</td>\n",
       "      <td>0.013278</td>\n",
       "    </tr>\n",
       "    <tr>\n",
       "      <th>2</th>\n",
       "      <td>0.038890</td>\n",
       "      <td>0.024539</td>\n",
       "      <td>0.018565</td>\n",
       "      <td>0.014966</td>\n",
       "    </tr>\n",
       "    <tr>\n",
       "      <th>3</th>\n",
       "      <td>0.143828</td>\n",
       "      <td>0.038324</td>\n",
       "      <td>0.031651</td>\n",
       "      <td>0.060549</td>\n",
       "    </tr>\n",
       "    <tr>\n",
       "      <th>4</th>\n",
       "      <td>0.069109</td>\n",
       "      <td>0.033438</td>\n",
       "      <td>0.244270</td>\n",
       "      <td>0.063508</td>\n",
       "    </tr>\n",
       "  </tbody>\n",
       "</table>\n",
       "</div>"
      ],
      "text/plain": [
       "          A         C         G         T\n",
       "0  0.032819  0.014615  0.014838  0.026514\n",
       "1  0.019318  0.009823  0.010735  0.013278\n",
       "2  0.038890  0.024539  0.018565  0.014966\n",
       "3  0.143828  0.038324  0.031651  0.060549\n",
       "4  0.069109  0.033438  0.244270  0.063508"
      ]
     },
     "execution_count": 13,
     "metadata": {},
     "output_type": "execute_result"
    }
   ],
   "source": [
    "pwm20_don = (pwm20[pwm20[0] == 'smallgenes_rnaseq_relative_donpwm']\n",
    "    .drop(columns=pwm20.columns[0])\n",
    "    .rename(columns={1: 'A', 2: 'C', 3: 'G', 4: 'T'}))\n",
    "pwm20_don.head(5)"
   ]
  },
  {
   "cell_type": "code",
   "execution_count": 14,
   "id": "f884ce18-8c2e-42aa-97d5-8e8cf50430ef",
   "metadata": {},
   "outputs": [
    {
     "data": {
      "text/html": [
       "<div>\n",
       "<style scoped>\n",
       "    .dataframe tbody tr th:only-of-type {\n",
       "        vertical-align: middle;\n",
       "    }\n",
       "\n",
       "    .dataframe tbody tr th {\n",
       "        vertical-align: top;\n",
       "    }\n",
       "\n",
       "    .dataframe thead th {\n",
       "        text-align: right;\n",
       "    }\n",
       "</style>\n",
       "<table border=\"1\" class=\"dataframe\">\n",
       "  <thead>\n",
       "    <tr style=\"text-align: right;\">\n",
       "      <th></th>\n",
       "      <th>A</th>\n",
       "      <th>C</th>\n",
       "      <th>G</th>\n",
       "      <th>T</th>\n",
       "    </tr>\n",
       "  </thead>\n",
       "  <tbody>\n",
       "    <tr>\n",
       "      <th>20</th>\n",
       "      <td>0.142444</td>\n",
       "      <td>0.043767</td>\n",
       "      <td>0.019292</td>\n",
       "      <td>0.100835</td>\n",
       "    </tr>\n",
       "    <tr>\n",
       "      <th>21</th>\n",
       "      <td>0.080952</td>\n",
       "      <td>0.033386</td>\n",
       "      <td>0.019210</td>\n",
       "      <td>0.086678</td>\n",
       "    </tr>\n",
       "    <tr>\n",
       "      <th>22</th>\n",
       "      <td>0.077257</td>\n",
       "      <td>0.032734</td>\n",
       "      <td>0.021609</td>\n",
       "      <td>0.100955</td>\n",
       "    </tr>\n",
       "    <tr>\n",
       "      <th>23</th>\n",
       "      <td>0.064045</td>\n",
       "      <td>0.027519</td>\n",
       "      <td>0.020824</td>\n",
       "      <td>0.077475</td>\n",
       "    </tr>\n",
       "    <tr>\n",
       "      <th>24</th>\n",
       "      <td>0.073747</td>\n",
       "      <td>0.031291</td>\n",
       "      <td>0.020163</td>\n",
       "      <td>0.086534</td>\n",
       "    </tr>\n",
       "  </tbody>\n",
       "</table>\n",
       "</div>"
      ],
      "text/plain": [
       "           A         C         G         T\n",
       "20  0.142444  0.043767  0.019292  0.100835\n",
       "21  0.080952  0.033386  0.019210  0.086678\n",
       "22  0.077257  0.032734  0.021609  0.100955\n",
       "23  0.064045  0.027519  0.020824  0.077475\n",
       "24  0.073747  0.031291  0.020163  0.086534"
      ]
     },
     "execution_count": 14,
     "metadata": {},
     "output_type": "execute_result"
    }
   ],
   "source": [
    "pwm20_acc = (pwm20[pwm20[0] == 'smallgenes_rnaseq_relative_accpwm']\n",
    "    .drop(columns=pwm20.columns[0])\n",
    "    .rename(columns={1: 'A', 2: 'C', 3: 'G', 4: 'T'}))\n",
    "pwm20_acc.head(5)"
   ]
  },
  {
   "cell_type": "code",
   "execution_count": 16,
   "id": "5d9a5336-b41f-4756-803b-f2e8e71f92aa",
   "metadata": {},
   "outputs": [
    {
     "data": {
      "image/png": "[encoded data removed]",
      "text/plain": [
       "<Figure size 1000x250 with 1 Axes>"
      ]
     },
     "metadata": {},
     "output_type": "display_data"
    }
   ],
   "source": [
    "pwm20_don_plt = logomaker.Logo(pwm20_don, shade_below=.5, fade_below=.5)"
   ]
  },
  {
   "cell_type": "markdown",
   "id": "2d6d5f12-64ed-4a0c-9397-e1d58384117b",
   "metadata": {},
   "source": [
    "This pwm suggests the donor site should include 2 base pairs upstream, into the exon sequence. The main donor site should also be 7 base pairs long. Suggested donor site motif would be AGGTAAGTT."
   ]
  },
  {
   "cell_type": "code",
   "execution_count": 15,
   "id": "88da5b4d-477e-4900-b7f5-05462630bbb4",
   "metadata": {},
   "outputs": [
    {
     "data": {
      "image/png": "[encoded data removed]",
      "text/plain": [
       "<Figure size 1000x250 with 1 Axes>"
      ]
     },
     "metadata": {},
     "output_type": "display_data"
    }
   ],
   "source": [
    "pwm20_acc_plt = logomaker.Logo(pwm20_acc, shade_below=.5, fade_below=.5)"
   ]
  },
  {
   "cell_type": "markdown",
   "id": "2c99e201-e0ec-4ed2-9644-233e04530dc7",
   "metadata": {},
   "source": [
    "This pwm suggests the acceptor site should be 8 base pairs long, with a top scoring motif being ATTTTCAG."
   ]
  },
  {
   "cell_type": "code",
   "execution_count": null,
   "id": "827e9344-4cf2-4f0d-9dbc-9b3abe79fd03",
   "metadata": {},
   "outputs": [],
   "source": []
  },
  {
   "cell_type": "code",
   "execution_count": null,
   "id": "ae53ecba-845d-4f9f-bfd7-57a709226a2c",
   "metadata": {},
   "outputs": [],
   "source": []
  },
  {
   "cell_type": "code",
   "execution_count": null,
   "id": "08d17fb2-2b6f-4ab4-89a5-ca69e8274c03",
   "metadata": {},
   "outputs": [],
   "source": []
  },
  {
   "cell_type": "code",
   "execution_count": null,
   "id": "5e158b1d-923d-45f6-a32e-373b29470faf",
   "metadata": {},
   "outputs": [],
   "source": []
  },
  {
   "cell_type": "code",
   "execution_count": null,
   "id": "07849ea0-8194-4f06-bd39-05740506e508",
   "metadata": {},
   "outputs": [],
   "source": []
  }
 ],
 "metadata": {
  "kernelspec": {
   "display_name": "Python 3 (ipykernel)",
   "language": "python",
   "name": "python3"
  },
  "language_info": {
   "codemirror_mode": {
    "name": "ipython",
    "version": 3
   },
   "file_extension": ".py",
   "mimetype": "text/x-python",
   "name": "python",
   "nbconvert_exporter": "python",
   "pygments_lexer": "ipython3",
   "version": "3.13.5"
  }
 },
 "nbformat": 4,
 "nbformat_minor": 5
}
